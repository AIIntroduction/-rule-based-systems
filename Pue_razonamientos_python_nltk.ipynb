{
  "cells": [
    {
      "cell_type": "markdown",
      "metadata": {
        "id": "WJoP0yN-8V4t"
      },
      "source": [
        "# Procesamiento de Lenguaje Natural y razonamientos en Python.\n",
        "\n",
        "NLTK es una librería muy conocida de procesamiento de lenguaje natural. Sus siglas corresponden aproximadamente a Kit de Herramientas del Natural Language. Gracias a esta librería podemos superar las limitaciones de expresividad que, por ejemplo, impone Prolog. Empezamos con las importaciones.\n",
        "\n",
        "Con este cuaderno se puede resolver la tarea evaluable 3, del curso F211468AA-7/411 - Introducción a la inteligencia artificial y los algoritmos, de Pue.."
      ]
    },
    {
      "cell_type": "code",
      "execution_count": null,
      "metadata": {
        "id": "Ay7RDNdvwAoE"
      },
      "outputs": [],
      "source": [
        "from nltk.inference.resolution import *\n",
        "from nltk.sem import logic\n",
        "from nltk.sem.logic import *\n",
        "logic._counter._value = 0\n",
        "#read_expr = logic.Expression.fromstring\n",
        "leer_expresion = logic.Expression.fromstring"
      ]
    },
    {
      "cell_type": "markdown",
      "metadata": {
        "id": "7BHS47wU9NWh"
      },
      "source": [
        "Ahora empezamos con el típico razonamiento de la lógica de predicados:\n",
        "\n",
        "Todos los hombres son mortales, Sócrates es un hombre, luego Sócrates es mortal.\n",
        "\n",
        "Este aparece en el Tema 8 apartado 4, y anteriormente en otras variaciones.\n",
        "También aparece como ejemplo en la documentación de la librería NLTK, que más o menos copio a continuación."
      ]
    },
    {
      "cell_type": "code",
      "execution_count": null,
      "metadata": {
        "id": "HLaeTuCowShb"
      },
      "outputs": [],
      "source": [
        "# Leemos la primera regla o primera premisa\n",
        "# Para todos los x, se cumple que SI x es hombre ENTONCES x es mortal\n",
        "p1 = leer_expresion('all x.(hombre(x) -> mortal(x))')\n",
        "# Leemos el primer hecho, que es la segunda premisa del razonamiento\n",
        "# Socrates es un hombre\n",
        "p2 = leer_expresion('hombre(Socrates)')\n",
        "# Leemos la conclusión\n",
        "# Socrates es mortal\n",
        "c = leer_expresion('mortal(Socrates)')\n",
        "# Iniciamos el valor del contador (está bien hacerlo para que sea independiente)\n",
        "logic._counter._value = 0\n",
        "# Creamos el objeto que va a realizar la resolución\n",
        "# La conclusión que deseamos demostrar y las dos premisas\n",
        "tp = ResolutionProverCommand(c, [p1,p2])\n",
        "# Le pedimos que pruebe la conclusión\n",
        "tp.prove()\n",
        "# Mostramos la prueba por pantalla\n",
        "print(tp.proof())\n",
        "# A la derecha la A indica los Axiomas y los números de los que dedujo esa\n",
        "# expresión o paso del razonamiento"
      ]
    },
    {
      "cell_type": "markdown",
      "metadata": {
        "id": "pTedBUq6ItRc"
      },
      "source": [
        "Se puede ver cómo demuestra el razonamiento, por medio del método de resolución. Al principio niega la conclusión y llega a una contradicción, con lo que se demuestra de forma similar a reducción al absurdo."
      ]
    }
  ],
  "metadata": {
    "colab": {
      "collapsed_sections": [],
      "name": "Pue_razonamientos_python_nltk.ipynb",
      "provenance": []
    },
    "kernelspec": {
      "display_name": "Python 3",
      "name": "python3"
    },
    "language_info": {
      "name": "python"
    }
  },
  "nbformat": 4,
  "nbformat_minor": 0
}
