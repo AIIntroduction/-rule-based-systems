{
  "nbformat": 4,
  "nbformat_minor": 0,
  "metadata": {
    "colab": {
      "name": "Pue_razonamientos_python_nltk.ipynb",
      "provenance": [],
      "collapsed_sections": []
    },
    "kernelspec": {
      "name": "python3",
      "display_name": "Python 3"
    },
    "language_info": {
      "name": "python"
    }
  },
  "cells": [
    {
      "cell_type": "markdown",
      "source": [
        "# Procesamiento de Lenguaje Natural y razonamientos en Python.\n",
        "\n",
        "NLTK es una librería muy conocida de procesamiento de lenguaje natural. Sus siglas corresponden aproximadamente a Kit de Herramientas del Natural Language. Gracias a esta librería podemos superar las limitaciones de expresividad que, por ejemplo, impone Prolog. Empezamos con las importaciones.\n",
        "\n",
        "Con este cuaderno se puede resolver la tarea evaluable 3, del curso F211468AA-7/411 - Introducción a la inteligencia artificial y los algoritmos, de Pue.."
      ],
      "metadata": {
        "id": "WJoP0yN-8V4t"
      }
    },
    {
      "cell_type": "code",
      "execution_count": null,
      "metadata": {
        "id": "Ay7RDNdvwAoE"
      },
      "outputs": [],
      "source": [
        "from nltk.inference.resolution import *\n",
        "from nltk.sem import logic\n",
        "from nltk.sem.logic import *\n",
        "logic._counter._value = 0\n",
        "#read_expr = logic.Expression.fromstring\n",
        "leer_expresion = logic.Expression.fromstring"
      ]
    },
    {
      "cell_type": "markdown",
      "source": [
        "Ahora empezamos con el típico razonamiento de la lógica de predicados:\n",
        "\n",
        "Todos los hombres son mortales, Sócrates es un hombre, luego Sócrates es mortal.\n",
        "\n",
        "Este aparece en el Tema 8 apartado 4, y anteriormente en otras variaciones.\n",
        "También aparece como ejemplo en la documentación de la librería NLTK, que más o menos copio a continuación."
      ],
      "metadata": {
        "id": "7BHS47wU9NWh"
      }
    },
    {
      "cell_type": "code",
      "source": [
        "# Leemos la primera regla o primera premisa\n",
        "# Para todos los x, se cumple que SI x es hombre ENTONCES x es mortal\n",
        "p1 = leer_expresion('all x.(hombre(x) -> mortal(x))')\n",
        "# Leemos el primer hecho, que es la segunda premisa del razonamiento\n",
        "# Socrates es un hombre\n",
        "p2 = leer_expresion('hombre(Socrates)')\n",
        "# Leemos la conclusión\n",
        "# Socrates es mortal\n",
        "c = leer_expresion('mortal(Socrates)')\n",
        "# Iniciamos el valor del contador (está bien hacerlo para que sea independiente)\n",
        "logic._counter._value = 0\n",
        "# Creamos el objeto que va a realizar la resolución\n",
        "# La conclusión que deseamos demostrar y las dos premisas\n",
        "tp = ResolutionProverCommand(c, [p1,p2])\n",
        "# Le pedimos que pruebe la conclusión\n",
        "tp.prove()\n",
        "# Mostramos la prueba por pantalla\n",
        "print(tp.proof())\n",
        "# A la derecha la A indica los Axiomas y los números de los que dedujo esa\n",
        "# expresión o paso del razonamiento"
      ],
      "metadata": {
        "id": "HLaeTuCowShb"
      },
      "execution_count": null,
      "outputs": []
    },
    {
      "cell_type": "markdown",
      "source": [
        "Se puede ver cómo demuestra el razonamiento, por medio del método de resolución. Al principio niega la conclusión y llega a una contradicción, con lo que se demuestra de forma similar a reducción al absurdo."
      ],
      "metadata": {
        "id": "pTedBUq6ItRc"
      }
    },
    {
      "cell_type": "markdown",
      "source": [
        "Se puede ver cómo son los operadores lógicos en esta librería:\n"
      ],
      "metadata": {
        "id": "P6tVmqWYDPRc"
      }
    },
    {
      "cell_type": "code",
      "source": [
        "import nltk\n",
        "nltk.boolean_ops()"
      ],
      "metadata": {
        "id": "3NcWEtoMDVPu"
      },
      "execution_count": null,
      "outputs": []
    },
    {
      "cell_type": "markdown",
      "source": [
        "Esto facilita mucho la expresividad. Es mejor que Prolog, que en muchos casos te limita a utilizar cláusulas de Horn."
      ],
      "metadata": {
        "id": "EFH6bimRJNvg"
      }
    },
    {
      "cell_type": "markdown",
      "source": [
        "En el mismo apartado, el 8.4, tenemos el siguiente razonamiento, que también formalizamos en Prolog:\n",
        " Cuando un número es divisible por dos, significa que es un número par, el número cuatro es divisible por dos entonces el cuatro en número par."
      ],
      "metadata": {
        "id": "xYfB9N90A6Y5"
      }
    },
    {
      "cell_type": "code",
      "source": [
        "# Para todos los números divisibles por dos tenemos que son pares\n",
        "premisa_1 = leer_expresion('all x.(divisible_por_dos(x) -> par(x))')\n",
        "# el número 4 es divisible por dos, \n",
        "premisa_2 = leer_expresion('divisible_por_dos(cuatro)')\n",
        "# ENTONCES el cuatro es par\n",
        "conclusion = leer_expresion('par(cuatro)')\n",
        "# Seguimos los mismos pasos que el razonamiento anterior\n",
        "# Iniciamos el valor del contador (está bien hacerlo para que sea independiente)\n",
        "logic._counter._value = 0\n",
        "# Creamos el objeto que va a realizar la resolución\n",
        "# La conclusión que deseamos demostrar y las dos premisas\n",
        "tp = ResolutionProverCommand(conclusion, [premisa_1,premisa_2])\n",
        "# Le pedimos que pruebe la conclusión\n",
        "tp.prove()\n",
        "# Mostramos la prueba por pantalla\n",
        "print(tp.proof())\n",
        "# A la derecha la A indica los Axiomas y los números de los que dedujo esa\n",
        "# expresión o paso del razonamiento\n"
      ],
      "metadata": {
        "id": "9Y-K5_sw2sez"
      },
      "execution_count": null,
      "outputs": []
    },
    {
      "cell_type": "markdown",
      "source": [
        "Continuemos con el siguiente razonamiento, del apartado 8.4:<br />\n",
        "Si el barco no tiene piratas, quiere decir que el Capitán murió o está de prisionero, pero el Capitán no murió y tampoco está de prisionero, como consecuencia el barco trae piratas."
      ],
      "metadata": {
        "id": "NX93NQCA5ZTR"
      }
    },
    {
      "cell_type": "code",
      "source": [
        "# Representemos el razonamiento o regla\n",
        "# SI NO tiene(barco,piratas) ENTONCES murio(capitan) O prisionero(capitan)\n",
        "premisa_1 = leer_expresion('-tiene(barco,piratas) -> murio(capitan) | prisionero(capitan)')\n",
        "# NO murio(capitan) Y NO prisionero(capitan)\n",
        "premisa_2 = leer_expresion('-murio(capitan) & -prisionero(capitan)')\n",
        "# ENTONCES tiene(barco,piratas)\n",
        "conclusion = leer_expresion('tiene(barco,piratas)')\n",
        "# Seguimos los mismos pasos que el razonamiento anterior\n",
        "# Iniciamos el valor del contador (está bien hacerlo para que sea independiente)\n",
        "logic._counter._value = 0\n",
        "# Creamos el objeto que va a realizar la resolución\n",
        "# La conclusión que deseamos demostrar y las dos premisas\n",
        "tp = ResolutionProverCommand(conclusion, [premisa_1,premisa_2])\n",
        "# Le pedimos que pruebe la conclusión\n",
        "resultado = tp.prove()\n",
        "if resultado:\n",
        "  print(\"Lo probó\")\n",
        "else:\n",
        "  print(\"No lo probó\")\n",
        "# Mostramos la prueba por pantalla\n",
        "print(tp.proof())\n",
        "# A la derecha la A indica los Axiomas y los números de los que dedujo esa\n",
        "# expresión o paso del razonamiento"
      ],
      "metadata": {
        "id": "PMIaU008xWhz"
      },
      "execution_count": null,
      "outputs": []
    },
    {
      "cell_type": "markdown",
      "source": [
        "En Prolog este razonamiento sería difícil de expresar directamente. Habría que realizar alguna conversión, debido a la negación, y los pasos de transformación nos llevarían a demostrar la conclusión."
      ],
      "metadata": {
        "id": "6zJq67M7JpQ4"
      }
    },
    {
      "cell_type": "markdown",
      "source": [
        "Vamos a analizar el razonamiento del Apartado 8.2 del tema 8. Este es:\n",
        "<ol>\n",
        "<li>Si x enfermedad entonces x en un síntoma.</li>\n",
        "<li>Síntoma dolor de cabeza.</li>\n",
        "<li>Síntoma fiebre.</li>\n",
        "<li>Síntoma dolor de garganta.</li>\n",
        "<li>Si X es síntoma entonces X es dolencia.</li>\n",
        "</ol>"
      ],
      "metadata": {
        "id": "77WPGC5Ogqb2"
      }
    },
    {
      "cell_type": "code",
      "source": [
        "# Representemos la primera regla\n",
        "# SI enfermedad(X) ENTONCES sintoma(X)\n",
        "premisa_1 = leer_expresion('all x.(enfermedad(x) -> sintoma(x))')\n",
        "# Ahora la segunda premisa. Hecho, dolor de cabeza es síntoma\n",
        "premisa_2 = leer_expresion('sintoma(dolor(cabeza))')\n",
        "# Otro hecho. Fiebre es un síntoma.\n",
        "premisa_3 = leer_expresion('sintoma(fiebre)')\n",
        "# La cuarta premisa, un nuevo hecho. Dolor de garganta es un síntoma.\n",
        "premisa_4 = leer_expresion('sintoma(dolor(garganta))')\n",
        "# La quinta premisa es una regla. \n",
        "# SI sintoma(X) entonces dolencia(x)\n",
        "premisa_5 = leer_expresion('all x.(sintoma(x)->dolencia(x))')\n",
        "# Vamos a probar, como conclusión, que dolor de cabeza es una dolencia.\n",
        "# dolencia(dolor(cabeza))\n",
        "conclusion = leer_expresion('dolencia(dolor(cabeza))')\n",
        "# Seguimos los mismos pasos que en los razonamientos anteriores\n",
        "# Iniciamos el valor del contador (está bien hacerlo para que sea independiente)\n",
        "logic._counter._value = 0\n",
        "# Creamos el objeto que va a realizar la resolución\n",
        "# La conclusión que deseamos demostrar y las dos premisas\n",
        "tp = ResolutionProverCommand(conclusion, [premisa_1,premisa_2, premisa_3, premisa_4, premisa_5])\n",
        "# Le pedimos que pruebe la conclusión\n",
        "resultado = tp.prove()\n",
        "if resultado:\n",
        "  print(\"Lo probó\")\n",
        "else:\n",
        "  print(\"No lo probó\")\n",
        "# Mostramos la prueba por pantalla\n",
        "print(tp.proof())\n",
        "# A la derecha la A indica los Axiomas y los números de los que dedujo esa\n",
        "# expresión o paso del razonamiento"
      ],
      "metadata": {
        "id": "Hu9o1U7nhlRk"
      },
      "execution_count": null,
      "outputs": []
    },
    {
      "cell_type": "markdown",
      "source": [
        "El punto [1] de la demostración es la negación de la conclusión que pretendemos demostrar. Del punto [3] tenemos que el dolor de cabeza es un síntoma. El punto [6] se extrae de la conversión de la regla en una disyunción, x no es un síntoma o x es una dolencia. Del [3] y del [6] se deduce claramente que x es una dolencia, en el que x es el dolor de cabeza, por lo que al ser contradictorio con la negación de la conclusión, llegamos a la demostración por reducción al absurdo. Debemos negar la suposición inicial, que el dolor de cabeza no era una dolencia, con lo que demostramos la conclusión."
      ],
      "metadata": {
        "id": "hAdKNP4qpev5"
      }
    },
    {
      "cell_type": "markdown",
      "source": [
        "En el apartado 7.1 del tema 10 se habla del modus ponendo ponens. Se ponen 2 ejemplos de aplicar dicha regla. Planteémolos en forma de premisas y conclusión. Vamos a ponerlo en forma de lógica de predicados."
      ],
      "metadata": {
        "id": "7pPwY7EurQ7K"
      }
    },
    {
      "cell_type": "code",
      "source": [
        "# Primera regla\n",
        "# SI oscuro ENTONCES de_noche\n",
        "premisa_1 = leer_expresion('all x.(oscuro(x) -> de_noche(x))')\n",
        "# Ahora la segunda premisa, suponemos que es oscuro ahora\n",
        "premisa_2 = leer_expresion('oscuro(ahora)')\n",
        "# Como conclusión, deducimos que es de_noche ahora\n",
        "conclusion = leer_expresion('de_noche(ahora)')\n",
        "# Seguimos los mismos pasos que en los razonamientos anteriores\n",
        "# Iniciamos el valor del contador (está bien hacerlo para que sea independiente)\n",
        "logic._counter._value = 0\n",
        "# Creamos el objeto que va a realizar la resolución\n",
        "# La conclusión que deseamos demostrar y las dos premisas\n",
        "tp = ResolutionProverCommand(conclusion, [premisa_1,premisa_2])\n",
        "# Le pedimos que pruebe la conclusión\n",
        "resultado = tp.prove()\n",
        "if resultado:\n",
        "  print(\"Lo probó\")\n",
        "else:\n",
        "  print(\"No lo probó\")\n",
        "# Mostramos la prueba por pantalla\n",
        "print(tp.proof())\n",
        "# A la derecha la A indica los Axiomas y los números de los que dedujo esa\n",
        "# expresión o paso del razonamiento"
      ],
      "metadata": {
        "id": "ng_SjUoorp9J"
      },
      "execution_count": null,
      "outputs": []
    },
    {
      "cell_type": "markdown",
      "source": [
        "El ejemplo 2 es similar.\n",
        "<ol>\n",
        "<li>Si Luis tiene dolor, es policía.</li>\n",
        "<li>Luis tiene dolor.</li>\n",
        "<li>Por lo tanto, Luis es policía.</li>\n",
        "</ol>"
      ],
      "metadata": {
        "id": "RWfy06aZtlEo"
      }
    },
    {
      "cell_type": "code",
      "source": [
        "# Primera regla, hagámosla general\n",
        "# SI x tiene_dolor ENTONCES x es policia\n",
        "premisa_1 = leer_expresion('all x.(tiene_dolor(x) -> policia(x))')\n",
        "# Ahora la segunda premisa, suponemos que luis tiene dolor\n",
        "premisa_2 = leer_expresion('tiene_dolor(Luis)')\n",
        "# Como conclusión, deducimos que Luis es policia\n",
        "conclusion = leer_expresion('policia(Luis)')\n",
        "# Seguimos los mismos pasos que en los razonamientos anteriores\n",
        "# Iniciamos el valor del contador (está bien hacerlo para que sea independiente)\n",
        "logic._counter._value = 0\n",
        "# Creamos el objeto que va a realizar la resolución\n",
        "# La conclusión que deseamos demostrar y las dos premisas\n",
        "tp = ResolutionProverCommand(conclusion, [premisa_1,premisa_2])\n",
        "# Le pedimos que pruebe la conclusión\n",
        "resultado = tp.prove()\n",
        "if resultado:\n",
        "  print(\"Lo probó\")\n",
        "else:\n",
        "  print(\"No lo probó\")\n",
        "# Mostramos la prueba por pantalla\n",
        "print(tp.proof())\n",
        "# A la derecha la A indica los Axiomas y los números de los que dedujo esa\n",
        "# expresión o paso del razonamiento"
      ],
      "metadata": {
        "id": "1Mju4PzItg5a"
      },
      "execution_count": null,
      "outputs": []
    },
    {
      "cell_type": "markdown",
      "source": [
        "Otro razonamiento similar es el de la lluvia, que moja las avenidas."
      ],
      "metadata": {
        "id": "MRd2wsUkvRR9"
      }
    },
    {
      "cell_type": "code",
      "source": [
        "# Primera regla\n",
        "# SI llueve (en algún momento o algún sitio) ENTONCES avenidas_se_mojan\n",
        "premisa_1 = leer_expresion('all x.(llueve(x) -> mojan(avenidas(x)))')\n",
        "# Ahora la segunda premisa, suponemos que llueve en Galicia\n",
        "premisa_2 = leer_expresion('llueve(Galicia)')\n",
        "# Como conclusión, deducimos que se mojan las avenidas en Galicia\n",
        "conclusion = leer_expresion('mojan(avenidas(Galicia))')\n",
        "# Seguimos los mismos pasos que en los razonamientos anteriores\n",
        "# Iniciamos el valor del contador (está bien hacerlo para que sea independiente)\n",
        "logic._counter._value = 0\n",
        "# Creamos el objeto que va a realizar la resolución\n",
        "# La conclusión que deseamos demostrar y las dos premisas\n",
        "tp = ResolutionProverCommand(conclusion, [premisa_1,premisa_2])\n",
        "# Le pedimos que pruebe la conclusión\n",
        "resultado = tp.prove()\n",
        "if resultado:\n",
        "  print(\"Lo probó\")\n",
        "else:\n",
        "  print(\"No lo probó\")\n",
        "# Mostramos la prueba por pantalla\n",
        "print(tp.proof())\n",
        "# A la derecha la A indica los Axiomas y los números de los que dedujo esa\n",
        "# expresión o paso del razonamiento"
      ],
      "metadata": {
        "id": "4-PNlcYYvKvQ"
      },
      "execution_count": null,
      "outputs": []
    },
    {
      "cell_type": "markdown",
      "source": [
        "Ahora un razonamiento similar con Modus Tollens. <br/>\n",
        "<ol>\n",
        "<li>p ⟶ q \"Si llueve, entonces las avenidas se mojan\"</li>\n",
        "<li>¬ q \"Las avenidas no se mojan\"</li>\n",
        "\n",
        "<hr />\n",
        "<li>¬ p \"Luego, no llueve\"</li>\n",
        "<ol>"
      ],
      "metadata": {
        "id": "SURaaYMawkoy"
      }
    },
    {
      "cell_type": "code",
      "source": [
        "# Primera regla\n",
        "# SI llueve (en algún momento o algún sitio) ENTONCES avenidas_se_mojan\n",
        "premisa_1 = leer_expresion('all x.(llueve(x) -> mojan(avenidas(x)))')\n",
        "# Ahora la segunda premisa, suponemos que no se mojan las avenidas en Galicia\n",
        "premisa_2 = leer_expresion('-mojan(avenidas(Galicia))')\n",
        "# Como conclusión, deducimos que es porque no llueve en Galicia\n",
        "conclusion = leer_expresion('-llueve(Galicia)')\n",
        "# Seguimos los mismos pasos que en los razonamientos anteriores\n",
        "# Iniciamos el valor del contador (está bien hacerlo para que sea independiente)\n",
        "logic._counter._value = 0\n",
        "# Creamos el objeto que va a realizar la resolución\n",
        "# La conclusión que deseamos demostrar y las dos premisas\n",
        "tp = ResolutionProverCommand(conclusion, [premisa_1,premisa_2])\n",
        "# Le pedimos que pruebe la conclusión\n",
        "resultado = tp.prove()\n",
        "if resultado:\n",
        "  print(\"Lo probó\")\n",
        "else:\n",
        "  print(\"No lo probó\")\n",
        "# Mostramos la prueba por pantalla\n",
        "print(tp.proof())\n",
        "# A la derecha la A indica los Axiomas y los números de los que dedujo esa\n",
        "# expresión o paso del razonamiento"
      ],
      "metadata": {
        "id": "tyur03rOwjZu"
      },
      "execution_count": null,
      "outputs": []
    }
  ]
}